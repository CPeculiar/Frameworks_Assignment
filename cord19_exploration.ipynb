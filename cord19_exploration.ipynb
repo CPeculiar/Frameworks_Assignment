{
 "cells": [
  {
   "cell_type": "markdown",
   "metadata": {},
   "source": [
    "# CORD-19 Dataset Analysis\n",
    "## COVID-19 Research Papers Exploration\n",
    "\n",
    "This notebook contains the complete analysis of the CORD-19 dataset metadata."
   ]
  },
  {
   "cell_type": "markdown",
   "metadata": {},
   "source": [
    "## Part 1: Data Loading and Basic Exploration"
   ]
  },
  {
   "cell_type": "code",
   "execution_count": null,
   "metadata": {},
   "outputs": [],
   "source": [
    "# Import required libraries\n",
    "import pandas as pd\n",
    "import matplotlib.pyplot as plt\n",
    "import seaborn as sns\n",
    "from collections import Counter\n",
    "import re\n",
    "from wordcloud import WordCloud\n",
    "import warnings\n",
    "warnings.filterwarnings('ignore')\n",
    "\n",
    "# Set plotting style\n",
    "plt.style.use('default')\n",
    "sns.set_palette(\"husl\")"
   ]
  },
  {
   "cell_type": "code",
   "execution_count": null,
   "metadata": {},
   "outputs": [],
   "source": [
    "# Load the data\n",
    "df = pd.read_csv('asset/metadata.csv')\n",
    "print(f\"Data loaded successfully! Shape: {df.shape}\")"
   ]
  },
  {
   "cell_type": "code",
   "execution_count": null,
   "metadata": {},
   "outputs": [],
   "source": [
    "# Basic exploration\n",
    "print(\"Dataset dimensions:\", df.shape)\n",
    "print(\"\\nColumn names:\")\n",
    "print(df.columns.tolist())"
   ]
  },
  {
   "cell_type": "code",
   "execution_count": null,
   "metadata": {},
   "outputs": [],
   "source": [
    "# Data types\n",
    "print(\"Data types:\")\n",
    "print(df.dtypes)"
   ]
  },
  {
   "cell_type": "code",
   "execution_count": null,
   "metadata": {},
   "outputs": [],
   "source": [
    "# First few rows\n",
    "df.head()"
   ]
  },
  {
   "cell_type": "code",
   "execution_count": null,
   "metadata": {},
   "outputs": [],
   "source": [
    "# Missing values analysis\n",
    "missing_values = df.isnull().sum()\n",
    "missing_percentage = (missing_values / len(df)) * 100\n",
    "\n",
    "missing_df = pd.DataFrame({\n",
    "    'Missing Count': missing_values,\n",
    "    'Missing Percentage': missing_percentage\n",
    "})\n",
    "missing_df = missing_df[missing_df['Missing Count'] > 0].sort_values('Missing Count', ascending=False)\n",
    "print(\"Missing values summary:\")\n",
    "print(missing_df)"
   ]
  },
  {
   "cell_type": "markdown",
   "metadata": {},
   "source": [
    "## Part 2: Data Cleaning and Preparation"
   ]
  },
  {
   "cell_type": "code",
   "execution_count": null,
   "metadata": {},
   "outputs": [],
   "source": [
    "# Create a cleaned version of the dataset\n",
    "cleaned_df = df.copy()\n",
    "\n",
    "# Convert publish_time to datetime\n",
    "if 'publish_time' in cleaned_df.columns:\n",
    "    cleaned_df['publish_time'] = pd.to_datetime(cleaned_df['publish_time'], errors='coerce')\n",
    "    cleaned_df['year'] = cleaned_df['publish_time'].dt.year\n",
    "    print(\"Added year column from publish_time\")\n",
    "\n",
    "# Create abstract word count\n",
    "if 'abstract' in cleaned_df.columns:\n",
    "    cleaned_df['abstract_word_count'] = cleaned_df['abstract'].fillna('').str.split().str.len()\n",
    "    print(\"Added abstract_word_count column\")\n",
    "\n",
    "# Remove rows with missing titles\n",
    "if 'title' in cleaned_df.columns:\n",
    "    initial_count = len(cleaned_df)\n",
    "    cleaned_df = cleaned_df.dropna(subset=['title'])\n",
    "    print(f\"Removed {initial_count - len(cleaned_df)} rows with missing titles\")\n",
    "\n",
    "print(f\"\\nCleaned data shape: {cleaned_df.shape}\")"
   ]
  },
  {
   "cell_type": "markdown",
   "metadata": {},
   "source": [
    "## Part 3: Data Analysis and Visualization"
   ]
  },
  {
   "cell_type": "code",
   "execution_count": null,
   "metadata": {},
   "outputs": [],
   "source": [
    "# Publications by year\n",
    "if 'year' in cleaned_df.columns:\n",
    "    year_counts = cleaned_df['year'].value_counts().sort_index()\n",
    "    \n",
    "    plt.figure(figsize=(12, 6))\n",
    "    plt.bar(year_counts.index, year_counts.values, color='skyblue', edgecolor='navy')\n",
    "    plt.title('COVID-19 Research Publications by Year', fontsize=16, fontweight='bold')\n",
    "    plt.xlabel('Year', fontsize=12)\n",
    "    plt.ylabel('Number of Publications', fontsize=12)\n",
    "    plt.xticks(rotation=45)\n",
    "    plt.grid(axis='y', alpha=0.3)\n",
    "    plt.tight_layout()\n",
    "    plt.show()\n",
    "    \n",
    "    print(f\"Peak publication year: {year_counts.idxmax()} with {year_counts.max()} papers\")"
   ]
  },
  {
   "cell_type": "code",
   "execution_count": null,
   "metadata": {},
   "outputs": [],
   "source": [
    "# Top journals\n",
    "if 'journal' in cleaned_df.columns:\n",
    "    top_journals = cleaned_df['journal'].value_counts().head(10)\n",
    "    \n",
    "    plt.figure(figsize=(12, 8))\n",
    "    plt.barh(range(len(top_journals)), top_journals.values, color='lightcoral')\n",
    "    plt.yticks(range(len(top_journals)), top_journals.index)\n",
    "    plt.title('Top 10 Journals Publishing COVID-19 Research', fontsize=16, fontweight='bold')\n",
    "    plt.xlabel('Number of Publications', fontsize=12)\n",
    "    plt.grid(axis='x', alpha=0.3)\n",
    "    plt.tight_layout()\n",
    "    plt.show()\n",
    "    \n",
    "    print(f\"Top journal: {top_journals.index[0]} with {top_journals.iloc[0]} papers\")"
   ]
  },
  {
   "cell_type": "code",
   "execution_count": null,
   "metadata": {},
   "outputs": [],
   "source": [
    "# Most frequent words in titles\n",
    "if 'title' in cleaned_df.columns:\n",
    "    all_titles = ' '.join(cleaned_df['title'].fillna('').astype(str))\n",
    "    words = re.findall(r'\\b[a-zA-Z]{3,}\\b', all_titles.lower())\n",
    "    \n",
    "    # Remove common stop words\n",
    "    stop_words = {'the', 'and', 'for', 'are', 'with', 'this', 'that', 'from', 'they', 'been', 'have', 'were', 'said', 'each', 'which', 'their', 'time', 'will', 'about', 'can', 'when', 'make', 'like', 'into', 'him', 'has', 'two', 'more', 'her', 'would', 'there', 'could', 'way', 'been', 'who', 'its', 'now', 'find', 'long', 'down', 'day', 'did', 'get', 'come', 'made', 'may', 'part'}\n",
    "    filtered_words = [word for word in words if word not in stop_words]\n",
    "    \n",
    "    word_freq = Counter(filtered_words).most_common(15)\n",
    "    words_list, counts_list = zip(*word_freq)\n",
    "    \n",
    "    plt.figure(figsize=(12, 8))\n",
    "    plt.barh(range(len(words_list)), counts_list, color='lightgreen')\n",
    "    plt.yticks(range(len(words_list)), words_list)\n",
    "    plt.title('Top 15 Most Frequent Words in Paper Titles', fontsize=16, fontweight='bold')\n",
    "    plt.xlabel('Frequency', fontsize=12)\n",
    "    plt.grid(axis='x', alpha=0.3)\n",
    "    plt.tight_layout()\n",
    "    plt.show()"
   ]
  },
  {
   "cell_type": "code",
   "execution_count": null,
   "metadata": {},
   "outputs": [],
   "source": [
    "# Word cloud\n",
    "if 'title' in cleaned_df.columns:\n",
    "    all_titles = ' '.join(cleaned_df['title'].fillna('').astype(str))\n",
    "    \n",
    "    wordcloud = WordCloud(width=1200, height=600, background_color='white', \n",
    "                         colormap='viridis').generate(all_titles)\n",
    "    \n",
    "    plt.figure(figsize=(15, 8))\n",
    "    plt.imshow(wordcloud, interpolation='bilinear')\n",
    "    plt.axis('off')\n",
    "    plt.title('Word Cloud of Paper Titles', fontsize=20, fontweight='bold', pad=20)\n",
    "    plt.tight_layout()\n",
    "    plt.show()"
   ]
  },
  {
   "cell_type": "code",
   "execution_count": null,
   "metadata": {},
   "outputs": [],
   "source": [
    "# Distribution by source\n",
    "if 'source_x' in cleaned_df.columns:\n",
    "    source_counts = cleaned_df['source_x'].value_counts().head(8)\n",
    "    \n",
    "    plt.figure(figsize=(10, 8))\n",
    "    colors = plt.cm.Set3(range(len(source_counts)))\n",
    "    plt.pie(source_counts.values, labels=source_counts.index, autopct='%1.1f%%', \n",
    "            colors=colors, startangle=90)\n",
    "    plt.title('Distribution of Papers by Source (Top 8)', fontsize=16, fontweight='bold')\n",
    "    plt.axis('equal')\n",
    "    plt.tight_layout()\n",
    "    plt.show()"
   ]
  },
  {
   "cell_type": "markdown",
   "metadata": {},
   "source": [
    "## Part 4: Summary Statistics and Insights"
   ]
  },
  {
   "cell_type": "code",
   "execution_count": null,
   "metadata": {},
   "outputs": [],
   "source": [
    "# Generate summary report\n",
    "print(\"=== CORD-19 DATASET ANALYSIS SUMMARY ===\")\n",
    "print(f\"Total papers analyzed: {len(cleaned_df):,}\")\n",
    "\n",
    "if 'year' in cleaned_df.columns:\n",
    "    year_range = f\"{cleaned_df['year'].min():.0f} - {cleaned_df['year'].max():.0f}\"\n",
    "    print(f\"Publication years: {year_range}\")\n",
    "\n",
    "if 'journal' in cleaned_df.columns:\n",
    "    unique_journals = cleaned_df['journal'].nunique()\n",
    "    print(f\"Unique journals: {unique_journals:,}\")\n",
    "\n",
    "if 'abstract_word_count' in cleaned_df.columns:\n",
    "    avg_abstract_length = cleaned_df['abstract_word_count'].mean()\n",
    "    print(f\"Average abstract length: {avg_abstract_length:.1f} words\")\n",
    "\n",
    "if 'authors' in cleaned_df.columns:\n",
    "    papers_with_authors = cleaned_df['authors'].notna().sum()\n",
    "    print(f\"Papers with author information: {papers_with_authors:,} ({papers_with_authors/len(cleaned_df)*100:.1f}%)\")\n",
    "\n",
    "print(\"\\n=== KEY INSIGHTS ===\")\n",
    "print(\"1. The dataset provides comprehensive metadata for COVID-19 research papers\")\n",
    "print(\"2. Publication activity shows clear temporal patterns related to the pandemic\")\n",
    "print(\"3. Research is distributed across multiple journals and sources\")\n",
    "print(\"4. Title analysis reveals key research themes and focus areas\")"
   ]
  }
 ],
 "metadata": {
  "kernelspec": {
   "display_name": "Python 3",
   "language": "python",
   "name": "python3"
  },
  "language_info": {
   "codemirror_mode": {
    "name": "ipython",
    "version": 3
   },
   "file_extension": ".py",
   "mimetype": "text/x-python",
   "name": "python",
   "nbconvert_exporter": "python",
   "pygments_lexer": "ipython3",
   "version": "3.8.5"
  }
 },
 "nbformat": 4,
 "nbformat_minor": 4
}